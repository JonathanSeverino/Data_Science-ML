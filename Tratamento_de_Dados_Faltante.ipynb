{
  "nbformat": 4,
  "nbformat_minor": 0,
  "metadata": {
    "colab": {
      "name": "Tratamento de Dados Faltante.ipynb",
      "provenance": [],
      "mount_file_id": "1L_AoGkHxaZCfxT52W2P-8QLErYmc9rV5",
      "authorship_tag": "ABX9TyPoYA6vtmOr+6q0GE57A1vy",
      "include_colab_link": true
    },
    "kernelspec": {
      "name": "python3",
      "display_name": "Python 3"
    },
    "language_info": {
      "name": "python"
    }
  },
  "cells": [
    {
      "cell_type": "markdown",
      "metadata": {
        "id": "view-in-github",
        "colab_type": "text"
      },
      "source": [
        "<a href=\"https://colab.research.google.com/github/JonathanSeverino/Data_Science-ML/blob/master/Tratamento_de_Dados_Faltante.ipynb\" target=\"_parent\"><img src=\"https://colab.research.google.com/assets/colab-badge.svg\" alt=\"Open In Colab\"/></a>"
      ]
    },
    {
      "cell_type": "markdown",
      "metadata": {
        "id": "hImTB1LATaaG"
      },
      "source": [
        "#Tratamento de Dados Faltante"
      ]
    },
    {
      "cell_type": "code",
      "metadata": {
        "id": "BwQ2qJjsS2G-"
      },
      "source": [
        "import pandas as pd"
      ],
      "execution_count": null,
      "outputs": []
    },
    {
      "cell_type": "code",
      "metadata": {
        "colab": {
          "base_uri": "https://localhost:8080/",
          "height": 359
        },
        "id": "-mn3V8tfTje6",
        "outputId": "1f46f545-6b0d-431c-d85f-606912278519"
      },
      "source": [
        "dados = pd.read_csv(\"/content/drive/MyDrive/Alura/Data science/Dados/Aluguel_residencial.csv\", sep= \";\")\n",
        "dados.head(10)"
      ],
      "execution_count": null,
      "outputs": [
        {
          "output_type": "execute_result",
          "data": {
            "text/html": [
              "<div>\n",
              "<style scoped>\n",
              "    .dataframe tbody tr th:only-of-type {\n",
              "        vertical-align: middle;\n",
              "    }\n",
              "\n",
              "    .dataframe tbody tr th {\n",
              "        vertical-align: top;\n",
              "    }\n",
              "\n",
              "    .dataframe thead th {\n",
              "        text-align: right;\n",
              "    }\n",
              "</style>\n",
              "<table border=\"1\" class=\"dataframe\">\n",
              "  <thead>\n",
              "    <tr style=\"text-align: right;\">\n",
              "      <th></th>\n",
              "      <th>Tipo</th>\n",
              "      <th>Bairro</th>\n",
              "      <th>Quartos</th>\n",
              "      <th>Vagas</th>\n",
              "      <th>Suites</th>\n",
              "      <th>Area</th>\n",
              "      <th>Valor</th>\n",
              "      <th>Condominio</th>\n",
              "      <th>IPTU</th>\n",
              "    </tr>\n",
              "  </thead>\n",
              "  <tbody>\n",
              "    <tr>\n",
              "      <th>0</th>\n",
              "      <td>Quitinete</td>\n",
              "      <td>Copacabana</td>\n",
              "      <td>1</td>\n",
              "      <td>0</td>\n",
              "      <td>0</td>\n",
              "      <td>40</td>\n",
              "      <td>1700.0</td>\n",
              "      <td>500.0</td>\n",
              "      <td>60.0</td>\n",
              "    </tr>\n",
              "    <tr>\n",
              "      <th>1</th>\n",
              "      <td>Casa</td>\n",
              "      <td>Jardim Botânico</td>\n",
              "      <td>2</td>\n",
              "      <td>0</td>\n",
              "      <td>1</td>\n",
              "      <td>100</td>\n",
              "      <td>7000.0</td>\n",
              "      <td>NaN</td>\n",
              "      <td>NaN</td>\n",
              "    </tr>\n",
              "    <tr>\n",
              "      <th>2</th>\n",
              "      <td>Apartamento</td>\n",
              "      <td>Centro</td>\n",
              "      <td>1</td>\n",
              "      <td>0</td>\n",
              "      <td>0</td>\n",
              "      <td>15</td>\n",
              "      <td>800.0</td>\n",
              "      <td>390.0</td>\n",
              "      <td>20.0</td>\n",
              "    </tr>\n",
              "    <tr>\n",
              "      <th>3</th>\n",
              "      <td>Apartamento</td>\n",
              "      <td>Higienópolis</td>\n",
              "      <td>1</td>\n",
              "      <td>0</td>\n",
              "      <td>0</td>\n",
              "      <td>48</td>\n",
              "      <td>800.0</td>\n",
              "      <td>230.0</td>\n",
              "      <td>NaN</td>\n",
              "    </tr>\n",
              "    <tr>\n",
              "      <th>4</th>\n",
              "      <td>Apartamento</td>\n",
              "      <td>Vista Alegre</td>\n",
              "      <td>3</td>\n",
              "      <td>1</td>\n",
              "      <td>0</td>\n",
              "      <td>70</td>\n",
              "      <td>1200.0</td>\n",
              "      <td>NaN</td>\n",
              "      <td>NaN</td>\n",
              "    </tr>\n",
              "    <tr>\n",
              "      <th>5</th>\n",
              "      <td>Apartamento</td>\n",
              "      <td>Cachambi</td>\n",
              "      <td>2</td>\n",
              "      <td>0</td>\n",
              "      <td>0</td>\n",
              "      <td>50</td>\n",
              "      <td>1300.0</td>\n",
              "      <td>301.0</td>\n",
              "      <td>17.0</td>\n",
              "    </tr>\n",
              "    <tr>\n",
              "      <th>6</th>\n",
              "      <td>Casa de Condomínio</td>\n",
              "      <td>Barra da Tijuca</td>\n",
              "      <td>5</td>\n",
              "      <td>4</td>\n",
              "      <td>5</td>\n",
              "      <td>750</td>\n",
              "      <td>22000.0</td>\n",
              "      <td>NaN</td>\n",
              "      <td>NaN</td>\n",
              "    </tr>\n",
              "    <tr>\n",
              "      <th>7</th>\n",
              "      <td>Casa de Condomínio</td>\n",
              "      <td>Ramos</td>\n",
              "      <td>2</td>\n",
              "      <td>2</td>\n",
              "      <td>0</td>\n",
              "      <td>65</td>\n",
              "      <td>1000.0</td>\n",
              "      <td>NaN</td>\n",
              "      <td>NaN</td>\n",
              "    </tr>\n",
              "    <tr>\n",
              "      <th>8</th>\n",
              "      <td>Apartamento</td>\n",
              "      <td>Centro</td>\n",
              "      <td>1</td>\n",
              "      <td>0</td>\n",
              "      <td>0</td>\n",
              "      <td>36</td>\n",
              "      <td>1200.0</td>\n",
              "      <td>NaN</td>\n",
              "      <td>NaN</td>\n",
              "    </tr>\n",
              "    <tr>\n",
              "      <th>9</th>\n",
              "      <td>Apartamento</td>\n",
              "      <td>Grajaú</td>\n",
              "      <td>2</td>\n",
              "      <td>1</td>\n",
              "      <td>0</td>\n",
              "      <td>70</td>\n",
              "      <td>1500.0</td>\n",
              "      <td>642.0</td>\n",
              "      <td>74.0</td>\n",
              "    </tr>\n",
              "  </tbody>\n",
              "</table>\n",
              "</div>"
            ],
            "text/plain": [
              "                 Tipo           Bairro  Quartos  ...    Valor  Condominio  IPTU\n",
              "0           Quitinete       Copacabana        1  ...   1700.0       500.0  60.0\n",
              "1                Casa  Jardim Botânico        2  ...   7000.0         NaN   NaN\n",
              "2         Apartamento           Centro        1  ...    800.0       390.0  20.0\n",
              "3         Apartamento     Higienópolis        1  ...    800.0       230.0   NaN\n",
              "4         Apartamento     Vista Alegre        3  ...   1200.0         NaN   NaN\n",
              "5         Apartamento         Cachambi        2  ...   1300.0       301.0  17.0\n",
              "6  Casa de Condomínio  Barra da Tijuca        5  ...  22000.0         NaN   NaN\n",
              "7  Casa de Condomínio            Ramos        2  ...   1000.0         NaN   NaN\n",
              "8         Apartamento           Centro        1  ...   1200.0         NaN   NaN\n",
              "9         Apartamento           Grajaú        2  ...   1500.0       642.0  74.0\n",
              "\n",
              "[10 rows x 9 columns]"
            ]
          },
          "metadata": {},
          "execution_count": 15
        }
      ]
    },
    {
      "cell_type": "code",
      "metadata": {
        "colab": {
          "base_uri": "https://localhost:8080/"
        },
        "id": "_DlYBZdnULLR",
        "outputId": "dd6d22f6-0ed1-467c-84ff-994964bc76fe"
      },
      "source": [
        "dados.isnull().sum()"
      ],
      "execution_count": null,
      "outputs": [
        {
          "output_type": "execute_result",
          "data": {
            "text/plain": [
              "Tipo             0\n",
              "Bairro           0\n",
              "Quartos          0\n",
              "Vagas            0\n",
              "Suites           0\n",
              "Area             0\n",
              "Valor            9\n",
              "Condominio    1815\n",
              "IPTU          6785\n",
              "dtype: int64"
            ]
          },
          "metadata": {},
          "execution_count": 16
        }
      ]
    },
    {
      "cell_type": "code",
      "metadata": {
        "colab": {
          "base_uri": "https://localhost:8080/",
          "height": 328
        },
        "id": "xxXFoxdfUfP5",
        "outputId": "5d7c46b7-95e7-48b0-efb6-275302684756"
      },
      "source": [
        "dados[dados['Valor'].isnull()]"
      ],
      "execution_count": null,
      "outputs": [
        {
          "output_type": "execute_result",
          "data": {
            "text/html": [
              "<div>\n",
              "<style scoped>\n",
              "    .dataframe tbody tr th:only-of-type {\n",
              "        vertical-align: middle;\n",
              "    }\n",
              "\n",
              "    .dataframe tbody tr th {\n",
              "        vertical-align: top;\n",
              "    }\n",
              "\n",
              "    .dataframe thead th {\n",
              "        text-align: right;\n",
              "    }\n",
              "</style>\n",
              "<table border=\"1\" class=\"dataframe\">\n",
              "  <thead>\n",
              "    <tr style=\"text-align: right;\">\n",
              "      <th></th>\n",
              "      <th>Tipo</th>\n",
              "      <th>Bairro</th>\n",
              "      <th>Quartos</th>\n",
              "      <th>Vagas</th>\n",
              "      <th>Suites</th>\n",
              "      <th>Area</th>\n",
              "      <th>Valor</th>\n",
              "      <th>Condominio</th>\n",
              "      <th>IPTU</th>\n",
              "    </tr>\n",
              "  </thead>\n",
              "  <tbody>\n",
              "    <tr>\n",
              "      <th>58</th>\n",
              "      <td>Apartamento</td>\n",
              "      <td>Barra da Tijuca</td>\n",
              "      <td>2</td>\n",
              "      <td>1</td>\n",
              "      <td>1</td>\n",
              "      <td>70</td>\n",
              "      <td>NaN</td>\n",
              "      <td>970.0</td>\n",
              "      <td>68.0</td>\n",
              "    </tr>\n",
              "    <tr>\n",
              "      <th>1492</th>\n",
              "      <td>Apartamento</td>\n",
              "      <td>Leme</td>\n",
              "      <td>2</td>\n",
              "      <td>0</td>\n",
              "      <td>0</td>\n",
              "      <td>75</td>\n",
              "      <td>NaN</td>\n",
              "      <td>878.0</td>\n",
              "      <td>NaN</td>\n",
              "    </tr>\n",
              "    <tr>\n",
              "      <th>1683</th>\n",
              "      <td>Casa</td>\n",
              "      <td>Campo Grande</td>\n",
              "      <td>3</td>\n",
              "      <td>4</td>\n",
              "      <td>3</td>\n",
              "      <td>363</td>\n",
              "      <td>NaN</td>\n",
              "      <td>NaN</td>\n",
              "      <td>NaN</td>\n",
              "    </tr>\n",
              "    <tr>\n",
              "      <th>2012</th>\n",
              "      <td>Apartamento</td>\n",
              "      <td>Botafogo</td>\n",
              "      <td>2</td>\n",
              "      <td>0</td>\n",
              "      <td>0</td>\n",
              "      <td>95</td>\n",
              "      <td>NaN</td>\n",
              "      <td>1010.0</td>\n",
              "      <td>170.0</td>\n",
              "    </tr>\n",
              "    <tr>\n",
              "      <th>2034</th>\n",
              "      <td>Apartamento</td>\n",
              "      <td>Copacabana</td>\n",
              "      <td>2</td>\n",
              "      <td>0</td>\n",
              "      <td>0</td>\n",
              "      <td>72</td>\n",
              "      <td>NaN</td>\n",
              "      <td>850.0</td>\n",
              "      <td>NaN</td>\n",
              "    </tr>\n",
              "    <tr>\n",
              "      <th>4941</th>\n",
              "      <td>Casa</td>\n",
              "      <td>Campo Grande</td>\n",
              "      <td>3</td>\n",
              "      <td>2</td>\n",
              "      <td>1</td>\n",
              "      <td>100</td>\n",
              "      <td>NaN</td>\n",
              "      <td>NaN</td>\n",
              "      <td>NaN</td>\n",
              "    </tr>\n",
              "    <tr>\n",
              "      <th>8568</th>\n",
              "      <td>Apartamento</td>\n",
              "      <td>Leme</td>\n",
              "      <td>2</td>\n",
              "      <td>0</td>\n",
              "      <td>1</td>\n",
              "      <td>75</td>\n",
              "      <td>NaN</td>\n",
              "      <td>878.0</td>\n",
              "      <td>NaN</td>\n",
              "    </tr>\n",
              "    <tr>\n",
              "      <th>8947</th>\n",
              "      <td>Apartamento</td>\n",
              "      <td>Glória</td>\n",
              "      <td>3</td>\n",
              "      <td>0</td>\n",
              "      <td>1</td>\n",
              "      <td>135</td>\n",
              "      <td>NaN</td>\n",
              "      <td>910.0</td>\n",
              "      <td>228.0</td>\n",
              "    </tr>\n",
              "    <tr>\n",
              "      <th>9149</th>\n",
              "      <td>Apartamento</td>\n",
              "      <td>Gávea</td>\n",
              "      <td>3</td>\n",
              "      <td>1</td>\n",
              "      <td>1</td>\n",
              "      <td>105</td>\n",
              "      <td>NaN</td>\n",
              "      <td>880.0</td>\n",
              "      <td>221.0</td>\n",
              "    </tr>\n",
              "  </tbody>\n",
              "</table>\n",
              "</div>"
            ],
            "text/plain": [
              "             Tipo           Bairro  Quartos  ...  Valor  Condominio   IPTU\n",
              "58    Apartamento  Barra da Tijuca        2  ...    NaN       970.0   68.0\n",
              "1492  Apartamento             Leme        2  ...    NaN       878.0    NaN\n",
              "1683         Casa     Campo Grande        3  ...    NaN         NaN    NaN\n",
              "2012  Apartamento         Botafogo        2  ...    NaN      1010.0  170.0\n",
              "2034  Apartamento       Copacabana        2  ...    NaN       850.0    NaN\n",
              "4941         Casa     Campo Grande        3  ...    NaN         NaN    NaN\n",
              "8568  Apartamento             Leme        2  ...    NaN       878.0    NaN\n",
              "8947  Apartamento           Glória        3  ...    NaN       910.0  228.0\n",
              "9149  Apartamento            Gávea        3  ...    NaN       880.0  221.0\n",
              "\n",
              "[9 rows x 9 columns]"
            ]
          },
          "metadata": {},
          "execution_count": 17
        }
      ]
    },
    {
      "cell_type": "markdown",
      "metadata": {
        "id": "eV4KknFZVWKR"
      },
      "source": [
        "##Como a informação principal desse banco são os valores dos aluguéis, esses 9 valores nulos são inúteis para esta análise! O próximo passo será a exclusão dos dados."
      ]
    },
    {
      "cell_type": "code",
      "metadata": {
        "id": "9B2u9t_yVwci"
      },
      "source": [
        "dados.dropna(subset=['Valor'], inplace= True)"
      ],
      "execution_count": null,
      "outputs": []
    },
    {
      "cell_type": "code",
      "metadata": {
        "colab": {
          "base_uri": "https://localhost:8080/",
          "height": 49
        },
        "id": "x8LBMtaDWVFh",
        "outputId": "c27f80e2-5db3-4e40-f74e-be3fb5eac762"
      },
      "source": [
        "#Verificando se o camando deu certo\n",
        "dados[dados['Valor'].isnull()] "
      ],
      "execution_count": null,
      "outputs": [
        {
          "output_type": "execute_result",
          "data": {
            "text/html": [
              "<div>\n",
              "<style scoped>\n",
              "    .dataframe tbody tr th:only-of-type {\n",
              "        vertical-align: middle;\n",
              "    }\n",
              "\n",
              "    .dataframe tbody tr th {\n",
              "        vertical-align: top;\n",
              "    }\n",
              "\n",
              "    .dataframe thead th {\n",
              "        text-align: right;\n",
              "    }\n",
              "</style>\n",
              "<table border=\"1\" class=\"dataframe\">\n",
              "  <thead>\n",
              "    <tr style=\"text-align: right;\">\n",
              "      <th></th>\n",
              "      <th>Tipo</th>\n",
              "      <th>Bairro</th>\n",
              "      <th>Quartos</th>\n",
              "      <th>Vagas</th>\n",
              "      <th>Suites</th>\n",
              "      <th>Area</th>\n",
              "      <th>Valor</th>\n",
              "      <th>Condominio</th>\n",
              "      <th>IPTU</th>\n",
              "    </tr>\n",
              "  </thead>\n",
              "  <tbody>\n",
              "  </tbody>\n",
              "</table>\n",
              "</div>"
            ],
            "text/plain": [
              "Empty DataFrame\n",
              "Columns: [Tipo, Bairro, Quartos, Vagas, Suites, Area, Valor, Condominio, IPTU]\n",
              "Index: []"
            ]
          },
          "metadata": {},
          "execution_count": 19
        }
      ]
    },
    {
      "cell_type": "markdown",
      "metadata": {
        "id": "NT9ssIWBW__a"
      },
      "source": [
        "##Tratamento Condicional"
      ]
    },
    {
      "cell_type": "code",
      "metadata": {
        "colab": {
          "base_uri": "https://localhost:8080/"
        },
        "id": "m4-mCsg-XCV0",
        "outputId": "e99b44b3-81f8-40f0-acdd-fda563ed221a"
      },
      "source": [
        "dados[dados['Condominio'].isnull()].shape[0]"
      ],
      "execution_count": null,
      "outputs": [
        {
          "output_type": "execute_result",
          "data": {
            "text/plain": [
              "1813"
            ]
          },
          "metadata": {},
          "execution_count": 20
        }
      ]
    },
    {
      "cell_type": "code",
      "metadata": {
        "id": "7sAHE2-HY-52"
      },
      "source": [
        "#Exemplo de tratamento condicional\n",
        "\n",
        "selecao = (dados['Tipo'] == 'Apartamento') & (dados['Condominio'].isnull())"
      ],
      "execution_count": null,
      "outputs": []
    },
    {
      "cell_type": "code",
      "metadata": {
        "colab": {
          "base_uri": "https://localhost:8080/"
        },
        "id": "Fzi26pXxZv1T",
        "outputId": "d8c08753-2691-4053-c384-b86d08fda4e7"
      },
      "source": [
        "A = dados.shape[0]\n",
        "dados = dados[~selecao]\n",
        "B = dados.shape[0]\n",
        "A - B"
      ],
      "execution_count": null,
      "outputs": [
        {
          "output_type": "stream",
          "name": "stderr",
          "text": [
            "/usr/local/lib/python3.7/dist-packages/ipykernel_launcher.py:2: UserWarning: Boolean Series key will be reindexed to match DataFrame index.\n",
            "  \n"
          ]
        },
        {
          "output_type": "execute_result",
          "data": {
            "text/plain": [
              "0"
            ]
          },
          "metadata": {},
          "execution_count": 26
        }
      ]
    },
    {
      "cell_type": "code",
      "metadata": {
        "colab": {
          "base_uri": "https://localhost:8080/"
        },
        "id": "kJZthxOVNamg",
        "outputId": "da5f3577-376f-425d-875f-226a9e0933f6"
      },
      "source": [
        "#Virificando quantos nulos ainda restam\n",
        "dados[dados['Condominio'].isnull()].shape[0]"
      ],
      "execution_count": null,
      "outputs": [
        {
          "output_type": "execute_result",
          "data": {
            "text/plain": [
              "1068"
            ]
          },
          "metadata": {},
          "execution_count": 27
        }
      ]
    },
    {
      "cell_type": "code",
      "metadata": {
        "id": "ynTIoJNuOP4V"
      },
      "source": [
        "dados = dados.fillna({'Condominio':0, 'IPTU':0})"
      ],
      "execution_count": null,
      "outputs": []
    },
    {
      "cell_type": "code",
      "metadata": {
        "colab": {
          "base_uri": "https://localhost:8080/"
        },
        "id": "y8ucZ4OdOs_p",
        "outputId": "0b723286-fa65-4a4d-f92b-0fcfd0bbc7ac"
      },
      "source": [
        "dados[dados['Condominio'].isnull()].shape[0]"
      ],
      "execution_count": null,
      "outputs": [
        {
          "output_type": "execute_result",
          "data": {
            "text/plain": [
              "0"
            ]
          },
          "metadata": {},
          "execution_count": 31
        }
      ]
    },
    {
      "cell_type": "code",
      "metadata": {
        "colab": {
          "base_uri": "https://localhost:8080/"
        },
        "id": "giKDswxhPJLH",
        "outputId": "26bb6113-03ac-446c-a3e8-b567e6807041"
      },
      "source": [
        "dados[dados['IPTU'].isnull()].shape[0]"
      ],
      "execution_count": null,
      "outputs": [
        {
          "output_type": "execute_result",
          "data": {
            "text/plain": [
              "0"
            ]
          },
          "metadata": {},
          "execution_count": 32
        }
      ]
    },
    {
      "cell_type": "code",
      "metadata": {
        "colab": {
          "base_uri": "https://localhost:8080/"
        },
        "id": "JePPdj5DU69A",
        "outputId": "19d86d3c-0a32-4f10-c977-bf9e0d6a3117"
      },
      "source": [
        "dados.info()"
      ],
      "execution_count": null,
      "outputs": [
        {
          "output_type": "stream",
          "name": "stdout",
          "text": [
            "<class 'pandas.core.frame.DataFrame'>\n",
            "Int64Index: 21826 entries, 0 to 22579\n",
            "Data columns (total 9 columns):\n",
            " #   Column      Non-Null Count  Dtype  \n",
            "---  ------      --------------  -----  \n",
            " 0   Tipo        21826 non-null  object \n",
            " 1   Bairro      21826 non-null  object \n",
            " 2   Quartos     21826 non-null  int64  \n",
            " 3   Vagas       21826 non-null  int64  \n",
            " 4   Suites      21826 non-null  int64  \n",
            " 5   Area        21826 non-null  int64  \n",
            " 6   Valor       21826 non-null  float64\n",
            " 7   Condominio  21826 non-null  float64\n",
            " 8   IPTU        21826 non-null  float64\n",
            "dtypes: float64(3), int64(4), object(2)\n",
            "memory usage: 1.7+ MB\n"
          ]
        }
      ]
    },
    {
      "cell_type": "code",
      "metadata": {
        "id": "65efOwVjU_Un"
      },
      "source": [
        "#Salvando o csv tratado\n",
        "dados.to_csv(\"/content/drive/MyDrive/Alura/Data science/Dados/Aluguel_residencial.csv\", sep= \";\", index= False)"
      ],
      "execution_count": null,
      "outputs": []
    }
  ]
}